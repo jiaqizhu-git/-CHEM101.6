{
 "cells": [
  {
   "cell_type": "code",
   "execution_count": 1,
   "metadata": {},
   "outputs": [],
   "source": [
    "from simtk.openmm import app\n",
    "import simtk.openmm as mm\n",
    "from simtk import unit"
   ]
  },
  {
   "cell_type": "code",
   "execution_count": 2,
   "metadata": {},
   "outputs": [
    {
     "name": "stderr",
     "output_type": "stream",
     "text": [
      "/dartfs-hpc/rc/home/y/f0047qy/.conda/envs/labconda/lib/python3.7/site-packages/simtk/openmm/app/internal/pdbstructure.py:537: UserWarning: WARNING: duplicate atom (HETATM    2  C   LIG     1       2.559   0.089  -0.016  1.00  0.00           C  , HETATM    1  C   LIG     1       1.047   0.089  -0.016  1.00  0.00           C  )\n",
      "  warnings.warn(\"WARNING: duplicate atom (%s, %s)\" % (atom, old_atom._pdb_string(old_atom.serial_number, atom.alternate_location_indicator)))\n",
      "/dartfs-hpc/rc/home/y/f0047qy/.conda/envs/labconda/lib/python3.7/site-packages/simtk/openmm/app/internal/pdbstructure.py:537: UserWarning: WARNING: duplicate atom (HETATM    4  H   LIG     1       0.662  -0.076   0.995  1.00  0.00           H  , HETATM    3  H   LIG     1       0.662   1.047  -0.378  1.00  0.00           H  )\n",
      "  warnings.warn(\"WARNING: duplicate atom (%s, %s)\" % (atom, old_atom._pdb_string(old_atom.serial_number, atom.alternate_location_indicator)))\n",
      "/dartfs-hpc/rc/home/y/f0047qy/.conda/envs/labconda/lib/python3.7/site-packages/simtk/openmm/app/internal/pdbstructure.py:537: UserWarning: WARNING: duplicate atom (HETATM    5  H   LIG     1       0.662  -0.704  -0.664  1.00  0.00           H  , HETATM    4  H   LIG     1       0.662  -0.076   0.995  1.00  0.00           H  )\n",
      "  warnings.warn(\"WARNING: duplicate atom (%s, %s)\" % (atom, old_atom._pdb_string(old_atom.serial_number, atom.alternate_location_indicator)))\n",
      "/dartfs-hpc/rc/home/y/f0047qy/.conda/envs/labconda/lib/python3.7/site-packages/simtk/openmm/app/internal/pdbstructure.py:537: UserWarning: WARNING: duplicate atom (HETATM    6  H   LIG     1       2.943   0.882   0.633  1.00  0.00           H  , HETATM    5  H   LIG     1       0.662  -0.704  -0.664  1.00  0.00           H  )\n",
      "  warnings.warn(\"WARNING: duplicate atom (%s, %s)\" % (atom, old_atom._pdb_string(old_atom.serial_number, atom.alternate_location_indicator)))\n",
      "/dartfs-hpc/rc/home/y/f0047qy/.conda/envs/labconda/lib/python3.7/site-packages/simtk/openmm/app/internal/pdbstructure.py:537: UserWarning: WARNING: duplicate atom (HETATM    7  H   LIG     1       2.943   0.254  -1.027  1.00  0.00           H  , HETATM    6  H   LIG     1       2.943   0.882   0.633  1.00  0.00           H  )\n",
      "  warnings.warn(\"WARNING: duplicate atom (%s, %s)\" % (atom, old_atom._pdb_string(old_atom.serial_number, atom.alternate_location_indicator)))\n",
      "/dartfs-hpc/rc/home/y/f0047qy/.conda/envs/labconda/lib/python3.7/site-packages/simtk/openmm/app/internal/pdbstructure.py:537: UserWarning: WARNING: duplicate atom (HETATM    8  H   LIG     1       2.943  -0.869   0.347  1.00  0.00           H  , HETATM    7  H   LIG     1       2.943   0.254  -1.027  1.00  0.00           H  )\n",
      "  warnings.warn(\"WARNING: duplicate atom (%s, %s)\" % (atom, old_atom._pdb_string(old_atom.serial_number, atom.alternate_location_indicator)))\n"
     ]
    }
   ],
   "source": [
    "pdb = app.PDBFile('ethane.pdb')\n",
    "forcefield = app.ForceField('ethane.gaff2.xml')"
   ]
  },
  {
   "cell_type": "code",
   "execution_count": 3,
   "metadata": {},
   "outputs": [],
   "source": [
    "system = forcefield.createSystem(pdb.topology, nonbondedMethod=app.NoCutoff, constraints=app.HBonds)\n",
    "\n",
    "integrator = mm.LangevinIntegrator(298.15*unit.kelvin, 5.0/unit.picoseconds, 2.0*unit.femtoseconds)\n",
    "integrator.setConstraintTolerance(1e-5)\n",
    "\n",
    "platform = mm.Platform.getPlatformByName('Reference')\n",
    "simulation = app.Simulation(pdb.topology, system, integrator, platform)\n",
    "simulation.context.setPositions(pdb.positions)"
   ]
  },
  {
   "cell_type": "code",
   "execution_count": 4,
   "metadata": {},
   "outputs": [
    {
     "name": "stdout",
     "output_type": "stream",
     "text": [
      "Minimizing...\n",
      "Potential energy before minimization is 11.124136261171031 kJ/mol\n",
      "Potential energy after minimization is 4.389961756922238 kJ/mol\n"
     ]
    }
   ],
   "source": [
    "print('Minimizing...')\n",
    "\n",
    "st = simulation.context.getState(getPositions=True,getEnergy=True)\n",
    "print(F\"Potential energy before minimization is {st.getPotentialEnergy()}\")\n",
    "\n",
    "simulation.minimizeEnergy(maxIterations=100)\n",
    "\n",
    "st = simulation.context.getState(getPositions=True,getEnergy=True)\n",
    "print(F\"Potential energy after minimization is {st.getPotentialEnergy()}\")"
   ]
  },
  {
   "cell_type": "code",
   "execution_count": 5,
   "metadata": {},
   "outputs": [
    {
     "name": "stdout",
     "output_type": "stream",
     "text": [
      "Equilibrating...\n",
      "#\"Step\",\"Potential Energy (kJ/mole)\",\"Temperature (K)\"\n",
      "100,12.197952860462337,163.3841959139522\n",
      "200,16.15759945968898,194.31950860681724\n",
      "300,14.507469247109519,196.96735891930916\n",
      "400,23.939154090945234,301.27922456308903\n",
      "500,21.944871515914002,523.0096769639099\n",
      "600,23.504781039406392,278.27562387360155\n",
      "700,22.47533811900076,378.9401298794428\n",
      "800,17.20993069069868,416.66015046602473\n",
      "900,25.48962074849342,309.4181973885642\n",
      "1000,16.484200627623526,365.47630525608014\n",
      "1100,22.35399014659544,473.3300759681382\n",
      "1200,37.58918676462445,309.87628609769394\n",
      "1300,22.872974057670614,261.3349015097161\n",
      "1400,24.842318604581788,535.9997038477285\n",
      "1500,37.193691284630155,470.7477293880395\n",
      "1600,24.121865532015875,285.00921104597427\n",
      "1700,17.437710936364624,372.96579682951307\n",
      "1800,18.7752616677421,406.5758080316393\n",
      "1900,12.09683994614888,212.10339234112112\n",
      "2000,14.763562262351718,190.44014391625328\n",
      "2100,18.674759192271495,298.33514927606257\n",
      "2200,19.951608397810578,262.65413078525853\n",
      "2300,28.33371251381246,310.70390632764554\n",
      "2400,19.845702107957333,516.7081080639067\n",
      "2500,26.576759250449303,236.0685542038015\n"
     ]
    }
   ],
   "source": [
    "from sys import stdout\n",
    "\n",
    "print('Equilibrating...')\n",
    "\n",
    "simulation.reporters.append(app.StateDataReporter(stdout, 100, step=True, \n",
    "    potentialEnergy=True, temperature=True, separator=','))\n",
    "simulation.context.setVelocitiesToTemperature(150.0*unit.kelvin)\n",
    "simulation.step(2500)"
   ]
  },
  {
   "cell_type": "code",
   "execution_count": 6,
   "metadata": {},
   "outputs": [
    {
     "name": "stdout",
     "output_type": "stream",
     "text": [
      "Running Production...\n",
      "#\"Step\",\"Time (ps)\",\"Potential Energy (kJ/mole)\",\"Temperature (K)\",\"Speed (ns/day)\"\n",
      "250000,500.0000000016593,14.835847996122848,355.7080164349603,0\n",
      "500000,999.9999999901769,14.720495093470515,391.3853178142632,4.23e+03\n",
      "750000,1499.9999999783536,17.39900148815516,198.85741932838596,4.4e+03\n",
      "1000000,1999.9999999665301,35.267659530625174,174.75716143794367,4.25e+03\n",
      "1250000,2499.9999999547067,18.287193729598183,337.4230416806842,4.18e+03\n",
      "1500000,2999.9999999428833,24.647615233561904,392.1384809489703,3.9e+03\n",
      "1750000,3499.99999993106,37.30657999958823,518.0560492605789,3.99e+03\n",
      "2000000,3999.9999999192364,13.04135500452702,319.91150820327357,4.18e+03\n",
      "2250000,4499.9999999992715,11.562755754118541,327.2189386277954,4.35e+03\n",
      "2500000,5000.000000101135,23.233125637612165,196.65604992059028,4.49e+03\n",
      "2750000,5500.000000202998,28.894269130848052,285.9198261576303,4.59e+03\n",
      "3000000,6000.000000304862,22.453320993209218,220.92670048190715,4.65e+03\n",
      "3250000,6500.000000406725,20.957762911185654,263.2213741256274,4.75e+03\n",
      "3500000,7000.0000005085885,31.16797679471666,162.28677665760333,4.82e+03\n",
      "3750000,7500.000000610452,17.55173296197472,312.3317810857972,4.87e+03\n",
      "4000000,8000.000000712315,22.51237237564559,323.6481446588187,4.91e+03\n",
      "4250000,8500.000000814178,17.54183003256798,289.11627973085615,4.97e+03\n",
      "4500000,9000.000000916041,22.055492948652386,249.44753361343197,5.01e+03\n",
      "4750000,9500.000001017905,17.36638064343932,244.98696120838602,5.04e+03\n",
      "5000000,10000.000001119768,25.735203913353864,441.306599415481,5.07e+03\n",
      "5250000,10500.000001221631,16.90757642423211,309.11929111198475,5.11e+03\n",
      "5500000,11000.000001323495,22.07508969764883,273.6292750381742,5.14e+03\n",
      "5750000,11500.000001425358,17.19521212750917,226.96472024729118,5.17e+03\n",
      "6000000,12000.000001527222,18.859758125804657,289.0934036653336,5.18e+03\n",
      "6250000,12500.000001629085,9.301718582515091,425.8510850891922,5.21e+03\n",
      "6500000,13000.000001730948,17.771666069540068,345.7643091013983,5.22e+03\n",
      "6750000,13500.000001832812,25.644197682790384,212.58913615876608,5.25e+03\n",
      "7000000,14000.000001934675,33.46105200799138,286.2874108293809,5.28e+03\n",
      "7250000,14500.000002036539,21.202031182983827,280.3067479150865,5.3e+03\n",
      "7500000,15000.000002138402,21.560264892493986,382.99879754644536,5.33e+03\n",
      "7750000,15500.000002240266,44.144961837769436,324.10668421410014,5.34e+03\n",
      "8000000,16000.000002342129,17.729284306624418,279.5971483406833,5.36e+03\n",
      "8250000,16500.00000244399,14.677375091741308,224.66078214885283,5.38e+03\n",
      "8500000,17000.000002545854,20.223190512938693,256.0121081042935,5.39e+03\n",
      "8750000,17500.000002647717,15.609841743388845,310.8624028667481,5.39e+03\n",
      "9000000,18000.00000274958,29.46111034068769,409.27374267671,5.42e+03\n",
      "9250000,18500.000002851444,15.116269504864107,302.982546464568,5.43e+03\n",
      "9500000,19000.000002953308,17.86590878160297,406.2725779480736,5.42e+03\n",
      "9750000,19500.00000305517,16.81414244705051,258.6035885677017,5.43e+03\n",
      "10000000,20000.000003157034,19.348678222780087,344.3380591286287,5.41e+03\n",
      "Done!\n",
      "Time required for simulation: 321.80053997039795 seconds\n"
     ]
    }
   ],
   "source": [
    "import time as time\n",
    "\n",
    "print('Running Production...')\n",
    "\n",
    "# Begin timer\n",
    "tinit=time.time()\n",
    "\n",
    "# Clear simulation reporters\n",
    "simulation.reporters.clear()\n",
    "\n",
    "# Reinitialize simulation reporters. We do this because we want different information printed from the production run than the equilibration run.\n",
    "# output basic simulation information below every 250000 steps - (which is equal to 2 fs(250,000) = 500,000 fs = 500 ps)\n",
    "simulation.reporters.append(app.StateDataReporter(stdout, 250000, \n",
    "    step=True, time=True, potentialEnergy=True, temperature=True, \n",
    "    speed=True, separator=','))\n",
    "\n",
    "# write out a trajectory (i.e., coordinates vs. time) to a DCD\n",
    "# file every 100 steps - 0.2 ps\n",
    "simulation.reporters.append(app.DCDReporter('ethane_sim.dcd', 100))\n",
    "\n",
    "# run the simulation for 1.0x10^7 steps - 20 ns\n",
    "simulation.step(10000000)\n",
    "\n",
    "# End timer\n",
    "tfinal=time.time()\n",
    "print('Done!')\n",
    "print('Time required for simulation:', tfinal-tinit, 'seconds')"
   ]
  },
  {
   "cell_type": "code",
   "execution_count": 7,
   "metadata": {},
   "outputs": [],
   "source": [
    "import mdtraj as md\n",
    "\n",
    "traj = md.load('ethane_sim.dcd', top='ethane.pdb')"
   ]
  },
  {
   "cell_type": "code",
   "execution_count": 8,
   "metadata": {},
   "outputs": [
    {
     "data": {
      "application/vnd.jupyter.widget-view+json": {
       "model_id": "912026b318684c18a59857cd607a0985",
       "version_major": 2,
       "version_minor": 0
      },
      "text/plain": []
     },
     "metadata": {},
     "output_type": "display_data"
    },
    {
     "data": {
      "application/vnd.jupyter.widget-view+json": {
       "model_id": "ec1a0566afa343e09df69d5ee6add660",
       "version_major": 2,
       "version_minor": 0
      },
      "text/plain": [
       "NGLWidget(max_frame=99999)"
      ]
     },
     "metadata": {},
     "output_type": "display_data"
    }
   ],
   "source": [
    "import nglview as ngl\n",
    "\n",
    "visualize = ngl.show_mdtraj(traj)\n",
    "visualize"
   ]
  },
  {
   "cell_type": "code",
   "execution_count": 9,
   "metadata": {},
   "outputs": [
    {
     "data": {
      "text/html": [
       "<div>\n",
       "<style scoped>\n",
       "    .dataframe tbody tr th:only-of-type {\n",
       "        vertical-align: middle;\n",
       "    }\n",
       "\n",
       "    .dataframe tbody tr th {\n",
       "        vertical-align: top;\n",
       "    }\n",
       "\n",
       "    .dataframe thead th {\n",
       "        text-align: right;\n",
       "    }\n",
       "</style>\n",
       "<table border=\"1\" class=\"dataframe\">\n",
       "  <thead>\n",
       "    <tr style=\"text-align: right;\">\n",
       "      <th></th>\n",
       "      <th>serial</th>\n",
       "      <th>name</th>\n",
       "      <th>element</th>\n",
       "      <th>resSeq</th>\n",
       "      <th>resName</th>\n",
       "      <th>chainID</th>\n",
       "      <th>segmentID</th>\n",
       "    </tr>\n",
       "  </thead>\n",
       "  <tbody>\n",
       "    <tr>\n",
       "      <th>0</th>\n",
       "      <td>1</td>\n",
       "      <td>C</td>\n",
       "      <td>C</td>\n",
       "      <td>1</td>\n",
       "      <td>LIG</td>\n",
       "      <td>0</td>\n",
       "      <td></td>\n",
       "    </tr>\n",
       "    <tr>\n",
       "      <th>1</th>\n",
       "      <td>2</td>\n",
       "      <td>C</td>\n",
       "      <td>C</td>\n",
       "      <td>1</td>\n",
       "      <td>LIG</td>\n",
       "      <td>0</td>\n",
       "      <td></td>\n",
       "    </tr>\n",
       "    <tr>\n",
       "      <th>2</th>\n",
       "      <td>3</td>\n",
       "      <td>H</td>\n",
       "      <td>H</td>\n",
       "      <td>1</td>\n",
       "      <td>LIG</td>\n",
       "      <td>0</td>\n",
       "      <td></td>\n",
       "    </tr>\n",
       "    <tr>\n",
       "      <th>3</th>\n",
       "      <td>4</td>\n",
       "      <td>H</td>\n",
       "      <td>H</td>\n",
       "      <td>1</td>\n",
       "      <td>LIG</td>\n",
       "      <td>0</td>\n",
       "      <td></td>\n",
       "    </tr>\n",
       "    <tr>\n",
       "      <th>4</th>\n",
       "      <td>5</td>\n",
       "      <td>H</td>\n",
       "      <td>H</td>\n",
       "      <td>1</td>\n",
       "      <td>LIG</td>\n",
       "      <td>0</td>\n",
       "      <td></td>\n",
       "    </tr>\n",
       "    <tr>\n",
       "      <th>5</th>\n",
       "      <td>6</td>\n",
       "      <td>H</td>\n",
       "      <td>H</td>\n",
       "      <td>1</td>\n",
       "      <td>LIG</td>\n",
       "      <td>0</td>\n",
       "      <td></td>\n",
       "    </tr>\n",
       "    <tr>\n",
       "      <th>6</th>\n",
       "      <td>7</td>\n",
       "      <td>H</td>\n",
       "      <td>H</td>\n",
       "      <td>1</td>\n",
       "      <td>LIG</td>\n",
       "      <td>0</td>\n",
       "      <td></td>\n",
       "    </tr>\n",
       "    <tr>\n",
       "      <th>7</th>\n",
       "      <td>8</td>\n",
       "      <td>H</td>\n",
       "      <td>H</td>\n",
       "      <td>1</td>\n",
       "      <td>LIG</td>\n",
       "      <td>0</td>\n",
       "      <td></td>\n",
       "    </tr>\n",
       "  </tbody>\n",
       "</table>\n",
       "</div>"
      ],
      "text/plain": [
       "   serial name element  resSeq resName  chainID segmentID\n",
       "0       1    C       C       1     LIG        0          \n",
       "1       2    C       C       1     LIG        0          \n",
       "2       3    H       H       1     LIG        0          \n",
       "3       4    H       H       1     LIG        0          \n",
       "4       5    H       H       1     LIG        0          \n",
       "5       6    H       H       1     LIG        0          \n",
       "6       7    H       H       1     LIG        0          \n",
       "7       8    H       H       1     LIG        0          "
      ]
     },
     "execution_count": 9,
     "metadata": {},
     "output_type": "execute_result"
    }
   ],
   "source": [
    "atoms, bonds = traj.topology.to_dataframe()\n",
    "atoms"
   ]
  },
  {
   "cell_type": "code",
   "execution_count": 10,
   "metadata": {},
   "outputs": [],
   "source": [
    "bond_indices = [0, 1] # atoms to define the bond length\n",
    "bond_length = md.compute_distances(traj, [bond_indices])"
   ]
  },
  {
   "cell_type": "code",
   "execution_count": 11,
   "metadata": {},
   "outputs": [
    {
     "data": {
      "image/png": "[encoded data removed]",
      "text/plain": [
       "<Figure size 432x288 with 1 Axes>"
      ]
     },
     "metadata": {
      "needs_background": "light"
     },
     "output_type": "display_data"
    }
   ],
   "source": [
    "import matplotlib.pyplot as plt\n",
    "\n",
    "bondcounts, binedges, otherstuff = plt.hist(bond_length, bins=120)\n",
    "plt.title('C-C bond length histogram')\n",
    "plt.xlabel('Bond length (nm)')\n",
    "plt.ylabel('Counts')\n",
    "plt.show()"
   ]
  },
  {
   "cell_type": "code",
   "execution_count": null,
   "metadata": {},
   "outputs": [],
   "source": []
  }
 ],
 "metadata": {
  "interpreter": {
   "hash": "1aeeeefbe05ee7c07fac065a375bb177a4474e157dcfb08de3aee7e117d8eacf"
  },
  "kernelspec": {
   "display_name": "Python 3.7.3 64-bit ('labconda': conda)",
   "language": "python",
   "name": "python3"
  },
  "language_info": {
   "codemirror_mode": {
    "name": "ipython",
    "version": 3
   },
   "file_extension": ".py",
   "mimetype": "text/x-python",
   "name": "python",
   "nbconvert_exporter": "python",
   "pygments_lexer": "ipython3",
   "version": "3.7.3"
  },
  "orig_nbformat": 4
 },
 "nbformat": 4,
 "nbformat_minor": 2
}
