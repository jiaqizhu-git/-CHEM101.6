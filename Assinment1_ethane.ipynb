{
 "cells": [
  {
   "cell_type": "code",
   "execution_count": 1,
   "metadata": {},
   "outputs": [],
   "source": [
    "from simtk.openmm import app\n",
    "import simtk.openmm as mm\n",
    "from simtk import unit"
   ]
  },
  {
   "cell_type": "code",
   "execution_count": 2,
   "metadata": {},
   "outputs": [
    {
     "name": "stderr",
     "output_type": "stream",
     "text": [
      "/dartfs-hpc/rc/home/y/f0047qy/.conda/envs/labconda/lib/python3.7/site-packages/simtk/openmm/app/internal/pdbstructure.py:537: UserWarning: WARNING: duplicate atom (HETATM    2  C   LIG     1       2.559   0.089  -0.016  1.00  0.00           C  , HETATM    1  C   LIG     1       1.047   0.089  -0.016  1.00  0.00           C  )\n",
      "  warnings.warn(\"WARNING: duplicate atom (%s, %s)\" % (atom, old_atom._pdb_string(old_atom.serial_number, atom.alternate_location_indicator)))\n",
      "/dartfs-hpc/rc/home/y/f0047qy/.conda/envs/labconda/lib/python3.7/site-packages/simtk/openmm/app/internal/pdbstructure.py:537: UserWarning: WARNING: duplicate atom (HETATM    4  H   LIG     1       0.662  -0.076   0.995  1.00  0.00           H  , HETATM    3  H   LIG     1       0.662   1.047  -0.378  1.00  0.00           H  )\n",
      "  warnings.warn(\"WARNING: duplicate atom (%s, %s)\" % (atom, old_atom._pdb_string(old_atom.serial_number, atom.alternate_location_indicator)))\n",
      "/dartfs-hpc/rc/home/y/f0047qy/.conda/envs/labconda/lib/python3.7/site-packages/simtk/openmm/app/internal/pdbstructure.py:537: UserWarning: WARNING: duplicate atom (HETATM    5  H   LIG     1       0.662  -0.704  -0.664  1.00  0.00           H  , HETATM    4  H   LIG     1       0.662  -0.076   0.995  1.00  0.00           H  )\n",
      "  warnings.warn(\"WARNING: duplicate atom (%s, %s)\" % (atom, old_atom._pdb_string(old_atom.serial_number, atom.alternate_location_indicator)))\n",
      "/dartfs-hpc/rc/home/y/f0047qy/.conda/envs/labconda/lib/python3.7/site-packages/simtk/openmm/app/internal/pdbstructure.py:537: UserWarning: WARNING: duplicate atom (HETATM    6  H   LIG     1       2.943   0.882   0.633  1.00  0.00           H  , HETATM    5  H   LIG     1       0.662  -0.704  -0.664  1.00  0.00           H  )\n",
      "  warnings.warn(\"WARNING: duplicate atom (%s, %s)\" % (atom, old_atom._pdb_string(old_atom.serial_number, atom.alternate_location_indicator)))\n",
      "/dartfs-hpc/rc/home/y/f0047qy/.conda/envs/labconda/lib/python3.7/site-packages/simtk/openmm/app/internal/pdbstructure.py:537: UserWarning: WARNING: duplicate atom (HETATM    7  H   LIG     1       2.943   0.254  -1.027  1.00  0.00           H  , HETATM    6  H   LIG     1       2.943   0.882   0.633  1.00  0.00           H  )\n",
      "  warnings.warn(\"WARNING: duplicate atom (%s, %s)\" % (atom, old_atom._pdb_string(old_atom.serial_number, atom.alternate_location_indicator)))\n",
      "/dartfs-hpc/rc/home/y/f0047qy/.conda/envs/labconda/lib/python3.7/site-packages/simtk/openmm/app/internal/pdbstructure.py:537: UserWarning: WARNING: duplicate atom (HETATM    8  H   LIG     1       2.943  -0.869   0.347  1.00  0.00           H  , HETATM    7  H   LIG     1       2.943   0.254  -1.027  1.00  0.00           H  )\n",
      "  warnings.warn(\"WARNING: duplicate atom (%s, %s)\" % (atom, old_atom._pdb_string(old_atom.serial_number, atom.alternate_location_indicator)))\n"
     ]
    }
   ],
   "source": [
    "pdb = app.PDBFile('ethane.pdb')\n",
    "forcefield = app.ForceField('ethane.gaff2.xml')"
   ]
  },
  {
   "cell_type": "code",
   "execution_count": 3,
   "metadata": {},
   "outputs": [],
   "source": [
    "system = forcefield.createSystem(pdb.topology, nonbondedMethod=app.NoCutoff, constraints=app.HBonds)\n",
    "\n",
    "integrator = mm.LangevinIntegrator(298.15*unit.kelvin, 5.0/unit.picoseconds, 2.0*unit.femtoseconds)\n",
    "integrator.setConstraintTolerance(1e-5)\n",
    "\n",
    "platform = mm.Platform.getPlatformByName('Reference')\n",
    "simulation = app.Simulation(pdb.topology, system, integrator, platform)\n",
    "simulation.context.setPositions(pdb.positions)"
   ]
  },
  {
   "cell_type": "code",
   "execution_count": 4,
   "metadata": {},
   "outputs": [
    {
     "name": "stdout",
     "output_type": "stream",
     "text": [
      "Minimizing...\n",
      "Potential energy before minimization is 11.124136261171031 kJ/mol\n",
      "Potential energy after minimization is 4.389961756922238 kJ/mol\n"
     ]
    }
   ],
   "source": [
    "print('Minimizing...')\n",
    "\n",
    "st = simulation.context.getState(getPositions=True,getEnergy=True)\n",
    "print(F\"Potential energy before minimization is {st.getPotentialEnergy()}\")\n",
    "\n",
    "simulation.minimizeEnergy(maxIterations=100)\n",
    "\n",
    "st = simulation.context.getState(getPositions=True,getEnergy=True)\n",
    "print(F\"Potential energy after minimization is {st.getPotentialEnergy()}\")"
   ]
  },
  {
   "cell_type": "code",
   "execution_count": 5,
   "metadata": {},
   "outputs": [
    {
     "name": "stdout",
     "output_type": "stream",
     "text": [
      "Equilibrating...\n",
      "#\"Step\",\"Potential Energy (kJ/mole)\",\"Temperature (K)\"\n",
      "100,20.859344447035326,215.7817548226215\n",
      "200,19.133397351405787,193.94382833774037\n",
      "300,28.715703792642437,292.2514395090718\n",
      "400,26.804975337985972,439.0040280079998\n",
      "500,28.60282109764636,601.2322409611213\n",
      "600,29.89161029513041,300.1238839240869\n",
      "700,28.831434195938613,190.315901977638\n",
      "800,19.717335288257793,409.67623115734636\n",
      "900,53.782535397019416,316.15259468298154\n",
      "1000,22.143720718554952,264.6742727620954\n",
      "1100,34.55015347819803,377.5265422614519\n",
      "1200,25.414847112761073,347.91378691037517\n",
      "1300,15.457122743296626,283.45942829949934\n",
      "1400,12.589440796042993,398.12320400665527\n",
      "1500,15.124770644496913,318.48252321638097\n",
      "1600,14.828641910964025,279.2165868944716\n",
      "1700,31.835162814273463,233.95879930506453\n",
      "1800,16.050219698572015,107.72037903635014\n",
      "1900,15.97650333138599,284.90869708464015\n",
      "2000,22.236499481705096,184.47919171588072\n",
      "2100,25.462007650557574,207.10655143583705\n",
      "2200,38.05133517393788,371.9530009181244\n",
      "2300,10.958217962908058,337.62002353883395\n",
      "2400,19.32558444525504,268.597132054019\n",
      "2500,24.465885641630415,248.5027733974136\n"
     ]
    }
   ],
   "source": [
    "from sys import stdout\n",
    "\n",
    "print('Equilibrating...')\n",
    "\n",
    "simulation.reporters.append(app.StateDataReporter(stdout, 100, step=True, \n",
    "    potentialEnergy=True, temperature=True, separator=','))\n",
    "simulation.context.setVelocitiesToTemperature(150.0*unit.kelvin)\n",
    "simulation.step(2500)"
   ]
  },
  {
   "cell_type": "code",
   "execution_count": 6,
   "metadata": {},
   "outputs": [
    {
     "name": "stdout",
     "output_type": "stream",
     "text": [
      "Running Production...\n",
      "#\"Step\",\"Time (ps)\",\"Potential Energy (kJ/mole)\",\"Temperature (K)\",\"Speed (ns/day)\"\n",
      "250000,500.0000000016593,19.94189362580657,184.12309355203536,0\n",
      "500000,999.9999999901769,23.24848119148946,135.2320974109206,2.09e+04\n",
      "750000,1499.9999999783536,16.28567808610506,293.1139105850112,1.98e+04\n",
      "1000000,1999.9999999665301,24.66073494306937,246.67788239611923,2.05e+04\n",
      "1250000,2499.9999999547067,23.81247931176902,530.9266988301663,2.14e+04\n",
      "1500000,2999.9999999428833,24.074601662783795,194.72878950335863,2.16e+04\n",
      "1750000,3499.99999993106,30.647485719024978,176.62241915939057,2.17e+04\n",
      "2000000,3999.9999999192364,13.360667961859049,298.5237266573914,2.19e+04\n",
      "2250000,4499.9999999992715,16.52065900277948,487.5186116055057,2.21e+04\n",
      "2500000,5000.000000101135,26.24017000715163,409.95757720734315,2.23e+04\n",
      "2750000,5500.000000202998,20.550552390937536,134.91765529999577,2.26e+04\n",
      "3000000,6000.000000304862,14.971989586925758,258.7065052128738,2.26e+04\n",
      "3250000,6500.000000406725,33.8600448137697,322.94186749150566,2.26e+04\n",
      "3500000,7000.0000005085885,33.56788499531203,230.50197363329633,2.26e+04\n",
      "3750000,7500.000000610452,18.159353118492124,234.2436536101449,2.26e+04\n",
      "4000000,8000.000000712315,26.297713253245632,363.69871273706053,2.26e+04\n",
      "4250000,8500.000000814178,35.328378155771915,361.66708837904747,2.26e+04\n",
      "4500000,9000.000000916041,13.046666447943572,281.73149335369976,2.25e+04\n",
      "4750000,9500.000001017905,14.998077426494467,267.0741719642929,2.17e+04\n",
      "5000000,10000.000001119768,11.739612152245423,175.01593623166204,2.05e+04\n",
      "5250000,10500.000001221631,16.43071425760644,185.67422785839165,1.94e+04\n",
      "5500000,11000.000001323495,17.738846865938086,657.1366310247226,1.86e+04\n",
      "5750000,11500.000001425358,21.294717788991946,165.19043861816243,1.79e+04\n",
      "6000000,12000.000001527222,12.770401515418708,273.60252925065373,1.73e+04\n",
      "6250000,12500.000001629085,25.245487502262705,252.03821079488992,1.68e+04\n",
      "6500000,13000.000001730948,29.56487123875164,311.30086625966953,1.63e+04\n",
      "6750000,13500.000001832812,17.602324006930953,223.84105812854375,1.59e+04\n",
      "7000000,14000.000001934675,30.73573711918751,340.70593202563543,1.56e+04\n",
      "7250000,14500.000002036539,37.600352648273386,185.4594009049947,1.53e+04\n",
      "7500000,15000.000002138402,25.817895686101675,204.40819996104162,1.5e+04\n",
      "7750000,15500.000002240266,28.42021324296394,223.85814699245174,1.48e+04\n",
      "8000000,16000.000002342129,11.432452163750641,245.1754720104808,1.46e+04\n",
      "8250000,16500.00000244399,16.873115047597153,286.5558554416258,1.44e+04\n",
      "8500000,17000.000002545854,25.06315511672066,219.370278871294,1.42e+04\n",
      "8750000,17500.000002647717,18.677123547819615,310.45723667718744,1.39e+04\n",
      "9000000,18000.00000274958,17.072870626385605,233.4201642990338,1.37e+04\n",
      "9250000,18500.000002851444,21.809884180461925,333.03245169023324,1.35e+04\n",
      "9500000,19000.000002953308,13.774416360955733,248.15661195329548,1.34e+04\n",
      "9750000,19500.00000305517,22.78478627735472,409.06663532113475,1.33e+04\n",
      "10000000,20000.000003157034,15.551049263646572,232.46462076907747,1.32e+04\n",
      "Done!\n",
      "Time required for simulation: 130.33994436264038 seconds\n"
     ]
    }
   ],
   "source": [
    "import time as time\n",
    "\n",
    "print('Running Production...')\n",
    "\n",
    "# Begin timer\n",
    "tinit=time.time()\n",
    "\n",
    "# Clear simulation reporters\n",
    "simulation.reporters.clear()\n",
    "\n",
    "# Reinitialize simulation reporters. We do this because we want different information printed from the production run than the equilibration run.\n",
    "# output basic simulation information below every 250000 steps - (which is equal to 2 fs(250,000) = 500,000 fs = 500 ps)\n",
    "simulation.reporters.append(app.StateDataReporter(stdout, 250000, \n",
    "    step=True, time=True, potentialEnergy=True, temperature=True, \n",
    "    speed=True, separator=','))\n",
    "\n",
    "# write out a trajectory (i.e., coordinates vs. time) to a DCD\n",
    "# file every 100 steps - 0.2 ps\n",
    "simulation.reporters.append(app.DCDReporter('ethane_sim.dcd', 100))\n",
    "\n",
    "# run the simulation for 1.0x10^7 steps - 20 ns\n",
    "simulation.step(10000000)\n",
    "\n",
    "# End timer\n",
    "tfinal=time.time()\n",
    "print('Done!')\n",
    "print('Time required for simulation:', tfinal-tinit, 'seconds')"
   ]
  },
  {
   "cell_type": "code",
   "execution_count": 18,
   "metadata": {},
   "outputs": [],
   "source": [
    "import mdtraj as md\n",
    "\n",
    "traj = md.load('ethane_sim.dcd', top='ethane.pdb')"
   ]
  },
  {
   "cell_type": "code",
   "execution_count": 19,
   "metadata": {},
   "outputs": [
    {
     "data": {
      "application/vnd.jupyter.widget-view+json": {
       "model_id": "c71db82269f5459080058752d8fdaf62",
       "version_major": 2,
       "version_minor": 0
      },
      "text/plain": [
       "NGLWidget(max_frame=99999)"
      ]
     },
     "metadata": {},
     "output_type": "display_data"
    }
   ],
   "source": [
    "import nglview as ngl\n",
    "\n",
    "visualize = ngl.show_mdtraj(traj)\n",
    "visualize"
   ]
  },
  {
   "cell_type": "code",
   "execution_count": 20,
   "metadata": {},
   "outputs": [
    {
     "data": {
      "text/html": [
       "<div>\n",
       "<style scoped>\n",
       "    .dataframe tbody tr th:only-of-type {\n",
       "        vertical-align: middle;\n",
       "    }\n",
       "\n",
       "    .dataframe tbody tr th {\n",
       "        vertical-align: top;\n",
       "    }\n",
       "\n",
       "    .dataframe thead th {\n",
       "        text-align: right;\n",
       "    }\n",
       "</style>\n",
       "<table border=\"1\" class=\"dataframe\">\n",
       "  <thead>\n",
       "    <tr style=\"text-align: right;\">\n",
       "      <th></th>\n",
       "      <th>serial</th>\n",
       "      <th>name</th>\n",
       "      <th>element</th>\n",
       "      <th>resSeq</th>\n",
       "      <th>resName</th>\n",
       "      <th>chainID</th>\n",
       "      <th>segmentID</th>\n",
       "    </tr>\n",
       "  </thead>\n",
       "  <tbody>\n",
       "    <tr>\n",
       "      <th>0</th>\n",
       "      <td>1</td>\n",
       "      <td>C1</td>\n",
       "      <td>C</td>\n",
       "      <td>1</td>\n",
       "      <td>LIG</td>\n",
       "      <td>0</td>\n",
       "      <td></td>\n",
       "    </tr>\n",
       "    <tr>\n",
       "      <th>1</th>\n",
       "      <td>2</td>\n",
       "      <td>C2</td>\n",
       "      <td>C</td>\n",
       "      <td>1</td>\n",
       "      <td>LIG</td>\n",
       "      <td>0</td>\n",
       "      <td></td>\n",
       "    </tr>\n",
       "    <tr>\n",
       "      <th>2</th>\n",
       "      <td>3</td>\n",
       "      <td>H11</td>\n",
       "      <td>H</td>\n",
       "      <td>1</td>\n",
       "      <td>LIG</td>\n",
       "      <td>0</td>\n",
       "      <td></td>\n",
       "    </tr>\n",
       "    <tr>\n",
       "      <th>3</th>\n",
       "      <td>4</td>\n",
       "      <td>H12</td>\n",
       "      <td>H</td>\n",
       "      <td>1</td>\n",
       "      <td>LIG</td>\n",
       "      <td>0</td>\n",
       "      <td></td>\n",
       "    </tr>\n",
       "    <tr>\n",
       "      <th>4</th>\n",
       "      <td>5</td>\n",
       "      <td>H13</td>\n",
       "      <td>H</td>\n",
       "      <td>1</td>\n",
       "      <td>LIG</td>\n",
       "      <td>0</td>\n",
       "      <td></td>\n",
       "    </tr>\n",
       "    <tr>\n",
       "      <th>5</th>\n",
       "      <td>6</td>\n",
       "      <td>H21</td>\n",
       "      <td>H</td>\n",
       "      <td>1</td>\n",
       "      <td>LIG</td>\n",
       "      <td>0</td>\n",
       "      <td></td>\n",
       "    </tr>\n",
       "    <tr>\n",
       "      <th>6</th>\n",
       "      <td>7</td>\n",
       "      <td>H22</td>\n",
       "      <td>H</td>\n",
       "      <td>1</td>\n",
       "      <td>LIG</td>\n",
       "      <td>0</td>\n",
       "      <td></td>\n",
       "    </tr>\n",
       "    <tr>\n",
       "      <th>7</th>\n",
       "      <td>8</td>\n",
       "      <td>H23</td>\n",
       "      <td>H</td>\n",
       "      <td>1</td>\n",
       "      <td>LIG</td>\n",
       "      <td>0</td>\n",
       "      <td></td>\n",
       "    </tr>\n",
       "  </tbody>\n",
       "</table>\n",
       "</div>"
      ],
      "text/plain": [
       "   serial name element  resSeq resName  chainID segmentID\n",
       "0       1   C1       C       1     LIG        0          \n",
       "1       2   C2       C       1     LIG        0          \n",
       "2       3  H11       H       1     LIG        0          \n",
       "3       4  H12       H       1     LIG        0          \n",
       "4       5  H13       H       1     LIG        0          \n",
       "5       6  H21       H       1     LIG        0          \n",
       "6       7  H22       H       1     LIG        0          \n",
       "7       8  H23       H       1     LIG        0          "
      ]
     },
     "execution_count": 20,
     "metadata": {},
     "output_type": "execute_result"
    }
   ],
   "source": [
    "atoms, bonds = traj.topology.to_dataframe()\n",
    "atoms"
   ]
  },
  {
   "cell_type": "code",
   "execution_count": 10,
   "metadata": {},
   "outputs": [],
   "source": [
    "bond_indices = [0, 1] # atoms to define the bond length\n",
    "bond_length = md.compute_distances(traj, [bond_indices])"
   ]
  },
  {
   "cell_type": "code",
   "execution_count": 11,
   "metadata": {},
   "outputs": [
    {
     "data": {
      "image/png": "[encoded data removed]",
      "text/plain": [
       "<Figure size 432x288 with 1 Axes>"
      ]
     },
     "metadata": {
      "needs_background": "light"
     },
     "output_type": "display_data"
    }
   ],
   "source": [
    "import matplotlib.pyplot as plt\n",
    "\n",
    "bondcounts, binedges, otherstuff = plt.hist(bond_length, bins=120)\n",
    "plt.title('C-C bond length histogram')\n",
    "plt.xlabel('Bond length (nm)')\n",
    "plt.ylabel('Counts')\n",
    "plt.show()"
   ]
  },
  {
   "cell_type": "code",
   "execution_count": 15,
   "metadata": {},
   "outputs": [
    {
     "data": {
      "image/png": "[encoded data removed]",
      "text/plain": [
       "<Figure size 432x288 with 1 Axes>"
      ]
     },
     "metadata": {
      "needs_background": "light"
     },
     "output_type": "display_data"
    }
   ],
   "source": [
    "import numpy as np \n",
    "import statsmodels.api as sm\n",
    "\n",
    "kB = 8.31446/1000 # Boltzmann constant in kJ/mol\n",
    "Temp = 298.15 # simulation temperature\n",
    "\n",
    "bondcounts[bondcounts==0] = 0.1\n",
    "pmf = -kB*Temp*np.log(bondcounts)\n",
    "pmf = pmf - np.min(pmf)\n",
    "\n",
    "bincenters = (binedges[1:] + binedges[:-1])/2\n",
    "\n",
    "pmf_smoothed = sm.nonparametric.lowess(pmf, bincenters, frac=0.05)\n",
    "pmf_s = pmf_smoothed[:,1] - np.min(pmf_smoothed[:,1])\n",
    "\n",
    "plt.plot(bincenters, pmf_s)\n",
    "plt.xlabel('Bond length (nm)')\n",
    "plt.ylabel('Relative free energy (kJ/mol)')\n",
    "plt.title('C-C bond length pmf')\n",
    "plt.show()"
   ]
  },
  {
   "cell_type": "code",
   "execution_count": 16,
   "metadata": {},
   "outputs": [
    {
     "data": {
      "image/png": "[encoded data removed]",
      "text/plain": [
       "<Figure size 432x288 with 1 Axes>"
      ]
     },
     "metadata": {
      "needs_background": "light"
     },
     "output_type": "display_data"
    }
   ],
   "source": [
    "plt.plot(bincenters[pmf_s < 15], pmf_s[pmf_s < 15])\n",
    "plt.xlabel('Bond length (nm)')\n",
    "plt.ylabel('Relative free energy (kJ/mol)')\n",
    "plt.title('C-C bond length pmf')\n",
    "plt.show()"
   ]
  },
  {
   "cell_type": "code",
   "execution_count": null,
   "metadata": {},
   "outputs": [],
   "source": []
  }
 ],
 "metadata": {
  "interpreter": {
   "hash": "1aeeeefbe05ee7c07fac065a375bb177a4474e157dcfb08de3aee7e117d8eacf"
  },
  "kernelspec": {
   "display_name": "Python 3.7.3 64-bit ('labconda': conda)",
   "language": "python",
   "name": "python3"
  },
  "language_info": {
   "codemirror_mode": {
    "name": "ipython",
    "version": 3
   },
   "file_extension": ".py",
   "mimetype": "text/x-python",
   "name": "python",
   "nbconvert_exporter": "python",
   "pygments_lexer": "ipython3",
   "version": "3.7.3"
  },
  "orig_nbformat": 4
 },
 "nbformat": 4,
 "nbformat_minor": 2
}
