{
 "cells": [
  {
   "cell_type": "code",
   "execution_count": 3,
   "metadata": {},
   "outputs": [],
   "source": [
    "from vina import Vina"
   ]
  },
  {
   "cell_type": "markdown",
   "metadata": {},
   "source": [
    "### First part of attempt with vina package for one single docking"
   ]
  },
  {
   "cell_type": "code",
   "execution_count": 9,
   "metadata": {},
   "outputs": [],
   "source": [
    "v = Vina(sf_name='vina')\n",
    "v.set_receptor('p53.pdbqt')\n"
   ]
  },
  {
   "cell_type": "code",
   "execution_count": 10,
   "metadata": {},
   "outputs": [],
   "source": [
    "v.set_ligand_from_file('pdbqt/EGCG.pdbqt')\n"
   ]
  },
  {
   "cell_type": "code",
   "execution_count": 11,
   "metadata": {},
   "outputs": [],
   "source": [
    "v.compute_vina_maps(center=[30,30,30,], box_size=[100,100,100])\n"
   ]
  },
  {
   "cell_type": "code",
   "execution_count": 12,
   "metadata": {},
   "outputs": [
    {
     "name": "stdout",
     "output_type": "stream",
     "text": [
      "Score before minimization: 0.000 (kcal/mol)\n"
     ]
    }
   ],
   "source": [
    "# Score the current pose\n",
    "energy = v.score()\n",
    "print('Score before minimization: %.3f (1kcal/mol)' % energy[0])"
   ]
  },
  {
   "cell_type": "code",
   "execution_count": 13,
   "metadata": {},
   "outputs": [
    {
     "name": "stdout",
     "output_type": "stream",
     "text": [
      "Score after minimization : 0.000 (kcal/mol)\n"
     ]
    }
   ],
   "source": [
    "# Minimized locally the current pose0\n",
    "energy_minimized = v.optimize()\n",
    "print('Score after minimization : %.3f (kcal/mol)' % energy_minimized[0])\n",
    "v.write_pose('p53_EGCG_minimized.pdbqt', overwrite=True)\n",
    "\n",
    "# Dock the ligand\n",
    "v.dock(exhaustiveness=520, n_poses=100)\n",
    "v.write_poses('p53_EGCG_vina_out.pdbqt', n_poses=5, overwrite=True)"
   ]
  },
  {
   "cell_type": "code",
   "execution_count": null,
   "metadata": {},
   "outputs": [],
   "source": [
    "v = Vina(sf_name='vina')\n",
    "v.set_receptor('protein/p53_1.pdbqt')\n",
    "v.set_ligand_from_file('pdbqt/EGCG.pdbqt')\n",
    "\n",
    "v.compute_vina_maps(center=[50,50,50], box_size=[100,100,100])\n",
    "# Score the current pose\n",
    "energy = v.score()\n",
    "print('Score before minimization: %.3f (kcal/mol)' % energy[0])\n",
    "\n",
    "# Minimized locally the current pose\n",
    "energy_minimized = v.optimize()\n",
    "print('Score after minimization : %.3f (kcal/mol)' % energy_minimized[0])\n",
    "v.write_pose('p53_EGCG_minimized.pdbqt', overwrite=True)\n",
    "\n",
    "# Dock the ligand\n",
    "v.dock(exhaustiveness=320, n_poses=200)\n",
    "v.write_poses('p53_EGCG_vina_out.pdbqt', n_poses=5, overwrite=True)"
   ]
  },
  {
   "cell_type": "markdown",
   "metadata": {},
   "source": [
    "### Also did this for 10 frames of AR trajectories"
   ]
  },
  {
   "cell_type": "code",
   "execution_count": null,
   "metadata": {},
   "outputs": [],
   "source": [
    "for i in range(1,10):\n",
    "    v = Vina(sf_name='vina')\n",
    "    v.set_receptor('AR_protein/' + str(i) + '.pdbqt')\n",
    "    v.set_ligand_from_file('pdbqt/E7.pdbqt')\n",
    "    v.compute_vina_maps(center=[30,30,30], box_size=[100,100,100])\n",
    "    \n",
    "    # Score the current pose    \n",
    "    energy = v.score()\n",
    "    print('Score before minimization: %.3f (kcal/mol)' % energy[0])\n",
    "    \n",
    "    # Minimized locally the current pose\n",
    "    energy_minimized = v.optimize()\n",
    "    print('Score after minimization : %.3f (kcal/mol)' % energy_minimized[0])\n",
    "    v.write_pose('AR_E7_out/minimized_' + str(i) + '.pdbqt', overwrite=True)\n",
    "\n",
    "    # Dock the ligand\n",
    "    v.dock(exhaustiveness=160, n_poses=100)\n",
    "    v.write_poses('AR_E7_out/vina_out_' + str(i) + '.pdbqt', n_poses=5, overwrite=True)\n",
    "\n",
    "    # !babel -pdbqt 'autodock_out/p53_EGCG_vina_out_' + str(i) + '.pdbqt' -opdb 'autodock_out/p53_EGCG_vina_out_' + str(i) + '.pdb'\n"
   ]
  },
  {
   "cell_type": "markdown",
   "metadata": {},
   "source": [
    "### Second part: try to specify binding pocket of one frame in AR trajectory with EPI-7170"
   ]
  },
  {
   "cell_type": "code",
   "execution_count": 61,
   "metadata": {},
   "outputs": [],
   "source": [
    "import mdtraj as md\n",
    "import numpy as np\n",
    "import matplotlib.pyplot as plt"
   ]
  },
  {
   "cell_type": "code",
   "execution_count": 13,
   "metadata": {},
   "outputs": [
    {
     "data": {
      "text/plain": [
       "[[40.61000061035156, 32.06999969482422, 17.690000534057617],\n",
       " [42.25, 35.540000915527344, 17.56999969482422],\n",
       " [39.400001525878906, 37.68000030517578, 18.860000610351562],\n",
       " [37.060001373291016, 34.73999786376953, 19.56999969482422],\n",
       " [36.709999084472656, 32.5, 22.639999389648438],\n",
       " [36.290000915527344, 28.84000015258789, 23.43000030517578],\n",
       " [33.650001525878906, 29.579999923706055, 26.010000228881836],\n",
       " [30.05000114440918, 30.850000381469727, 26.149999618530273],\n",
       " [29.44999885559082, 34.599998474121094, 26.119998931884766],\n",
       " [30.360000610351562, 37.18000030517578, 28.81999969482422],\n",
       " [27.170000076293945, 39.06999969482422, 27.860000610351562],\n",
       " [25.170000076293945, 36.380001068115234, 29.65999984741211],\n",
       " [26.619998931884766, 37.290000915527344, 33.099998474121094],\n",
       " [24.849998474121094, 38.87000274658203, 36.0],\n",
       " [28.23999786376953, 38.87000274658203, 37.869998931884766],\n",
       " [31.639999389648438, 37.36000061035156, 36.959999084472656],\n",
       " [32.119998931884766, 36.119998931884766, 40.59000015258789],\n",
       " [29.06999969482422, 33.790000915527344, 40.279998779296875],\n",
       " [30.360000610351562, 32.540000915527344, 36.880001068115234],\n",
       " [33.82999801635742, 31.65999984741211, 38.23999786376953],\n",
       " [32.04999923706055, 29.979999542236328, 41.19999694824219],\n",
       " [30.060001373291016, 27.889999389648438, 38.709999084472656],\n",
       " [33.27000045776367, 26.719999313354492, 37.04999923706055],\n",
       " [34.57999801635742, 26.010000228881836, 40.58000183105469],\n",
       " [37.529998779296875, 28.43000030517578, 40.029998779296875],\n",
       " [35.70000076293945, 30.56999969482422, 42.68000030517578],\n",
       " [36.05999755859375, 27.67999839782715, 45.18000030517578],\n",
       " [39.119998931884766, 26.400001525878906, 47.040000915527344],\n",
       " [38.22999954223633, 22.75, 46.55000305175781],\n",
       " [35.84000015258789, 20.350000381469727, 44.73999786376953],\n",
       " [32.25, 21.510000228881836, 45.31999969482422],\n",
       " [30.6200008392334, 24.51999855041504, 46.98999786376953],\n",
       " [32.70000076293945, 26.110000610351562, 49.840003967285156],\n",
       " [35.43000030517578, 28.559999465942383, 50.84000015258789],\n",
       " [36.720001220703125, 31.0, 48.279998779296875],\n",
       " [39.779998779296875, 30.48000144958496, 46.10000228881836],\n",
       " [42.959999084472656, 32.5099983215332, 46.189998626708984],\n",
       " [42.0, 33.84000015258789, 42.72999572753906],\n",
       " [38.709999084472656, 34.959999084472656, 44.23999786376953],\n",
       " [40.18000030517578, 36.689998626708984, 47.32999801635742],\n",
       " [42.94000244140625, 38.189998626708984, 45.19000244140625],\n",
       " [40.56999969482422, 39.88999938964844, 42.68000030517578],\n",
       " [39.34000015258789, 42.01000213623047, 45.619998931884766],\n",
       " [42.95000076293945, 42.72999572753906, 46.459999084472656],\n",
       " [43.720001220703125, 43.709999084472656, 42.87000274658203],\n",
       " [40.65999984741211, 46.02000427246094, 42.480003356933594],\n",
       " [41.220001220703125, 48.30999755859375, 45.470001220703125],\n",
       " [44.980003356933594, 48.15999984741211, 44.869998931884766],\n",
       " [46.160003662109375, 51.66999816894531, 43.75],\n",
       " [47.5, 52.36000061035156, 40.2400016784668],\n",
       " [51.07999801635742, 51.63999938964844, 39.150001525878906],\n",
       " [53.85000228881836, 54.08000183105469, 38.189998626708984],\n",
       " [53.64999771118164, 55.90999984741211, 41.56999969482422],\n",
       " [55.790000915527344, 56.52000045776367, 44.71000289916992],\n",
       " [54.92000198364258, 53.92000198364258, 47.27000427246094],\n",
       " [54.75, 55.019996643066406, 50.869998931884766]]"
      ]
     },
     "execution_count": 13,
     "metadata": {},
     "output_type": "execute_result"
    }
   ],
   "source": [
    "ProteinPdb = md.load('vina_test/protein.pdb')\n",
    "ProteinTop = ProteinPdb.topology\n",
    "CA_xyz = []\n",
    "for resi in ProteinTop.select('name CA'):\n",
    "    a = ProteinPdb.xyz[0,resi,:]*10\n",
    "    a = a.tolist()\n",
    "    CA_xyz.append(a)\n",
    "CA_xyz   \n",
    "    "
   ]
  },
  {
   "cell_type": "code",
   "execution_count": 37,
   "metadata": {},
   "outputs": [],
   "source": [
    "%%bash\n",
    "# mkdir vina_final\n",
    "cd vina_final\n",
    "for i in {0..56}\n",
    "do\n",
    "rm -rf $i/\n",
    "mkdir $i/ \n",
    "cd $i/\n",
    "cp ../../vina_test/protein.pdbqt ../../vina_test/ligand.pdbqt .\n",
    "cd ../\n",
    "done"
   ]
  },
  {
   "cell_type": "code",
   "execution_count": 72,
   "metadata": {},
   "outputs": [],
   "source": [
    "x = []\n",
    "y = []\n",
    "z = []\n",
    "\n",
    "for i in CA_xyz:\n",
    "    x.append(i[0])\n",
    "    y.append(i[1])\n",
    "    z.append(i[2])\n",
    "x = \" \".join(str(item) for item in x)\n",
    "y = \" \".join(str(item) for item in y)\n",
    "z = \" \".join(str(item) for item in z)\n"
   ]
  },
  {
   "cell_type": "code",
   "execution_count": 48,
   "metadata": {},
   "outputs": [],
   "source": [
    "%%bash -s \"$x\" \"$y\" \"$z\"\n",
    "\n",
    "cd vina_final\n",
    "\n",
    "for i in {0..55}\n",
    "do\n",
    "cd $i/\n",
    "\n",
    "arr1=($1)\n",
    "arr2=($2)\n",
    "arr3=($3)\n",
    "\n",
    "# echo ${arr1[1]} \n",
    "# echo ${arr2[3]}\n",
    "\n",
    "cat > conf.txt <<EOF\n",
    "receptor = protein.pdbqt\n",
    "ligand = ligand.pdbqt\n",
    "\n",
    "out = all.pdbqt\n",
    "\n",
    "center_x = ${arr1[$i]} \n",
    "center_y = ${arr2[$i]} \n",
    "center_z = ${arr3[$i]} \n",
    "\n",
    "size_x = 8\n",
    "size_y = 8\n",
    "size_z = 8\n",
    "EOF\n",
    "\n",
    "cd ../\n",
    "\n",
    "done"
   ]
  },
  {
   "cell_type": "markdown",
   "metadata": {},
   "source": [
    "#### I've run vina using terminal, not in notebook"
   ]
  },
  {
   "cell_type": "code",
   "execution_count": null,
   "metadata": {},
   "outputs": [],
   "source": [
    "%%bash\n",
    "alias vina=/home/daisy/Documents/Chem_course/Chem101.6/Final_project/autodock_vina_1_1_2_linux_x86/bin/vina\n",
    "\n",
    "cd vina_final\n",
    "\n",
    "for i in {0..55}\n",
    "do\n",
    "cd $i/\n",
    "vina --config conf.txt --log log.txt\n",
    "cd ../\n",
    "done"
   ]
  },
  {
   "cell_type": "code",
   "execution_count": 69,
   "metadata": {},
   "outputs": [
    {
     "data": {
      "text/plain": [
       "array([ 1.8, 12.6, 25.4, 17.6, -0.8,  2.4,  6.7,  2.6, 15.5,  8.2,  0.5,\n",
       "       28.2, 18.6,  1. , 27.1, 44. ,  7.5,  4.3, 77.6, 42.3, 32.7, 30.9,\n",
       "       15.2,  9.2, 13.4, 35.8, 35.2,  9.1, -1.5,  1.9,  2.2,  1.5, -1.2,\n",
       "        6.4, 13.3, 23. ,  4. , 13.1, 36.9, 47.2, 46. , 38.7, 68.6,  6.2,\n",
       "       20. , 20. , 20.7, 17.9,  5.5, 40.5, 17.3,  0.2,  5.9,  8.5,  9.6,\n",
       "       -1.7])"
      ]
     },
     "execution_count": 69,
     "metadata": {},
     "output_type": "execute_result"
    }
   ],
   "source": [
    "# Select the affinity from log file with highest binding score\n",
    "affinity = []\n",
    "for i in range(0,56):\n",
    "    file = open('vina_final/'+str(i)+'/log.txt')\n",
    "    lines = file.readlines()\n",
    "    element = lines[26].split()\n",
    "    affinity.append(float(element[1]))\n",
    "affinity = np.asarray(affinity)\n",
    "affinity"
   ]
  },
  {
   "cell_type": "code",
   "execution_count": 71,
   "metadata": {},
   "outputs": [
    {
     "name": "stderr",
     "output_type": "stream",
     "text": [
      "No handles with labels found to put in legend.\n"
     ]
    },
    {
     "data": {
      "image/png": "[encoded data removed]",
      "text/plain": [
       "<Figure size 432x288 with 1 Axes>"
      ]
     },
     "metadata": {
      "needs_background": "light"
     },
     "output_type": "display_data"
    }
   ],
   "source": [
    "plt.plot(range(391,447), affinity)\n",
    "plt.legend(loc=\"upper left\")\n",
    "plt.xlabel('Residue', size=18)\n",
    "plt.ylabel('Binding affinity', size=18)\n",
    "plt.tick_params(labelsize=18)\n"
   ]
  },
  {
   "cell_type": "code",
   "execution_count": null,
   "metadata": {},
   "outputs": [],
   "source": []
  }
 ],
 "metadata": {
  "interpreter": {
   "hash": "ebb6c6a23d141d52b7a1a885f9b837a3c78843d7b9a3e64b549e5763079e7549"
  },
  "kernelspec": {
   "display_name": "Python 3.7.11 ('openmm')",
   "language": "python",
   "name": "python3"
  },
  "language_info": {
   "codemirror_mode": {
    "name": "ipython",
    "version": 3
   },
   "file_extension": ".py",
   "mimetype": "text/x-python",
   "name": "python",
   "nbconvert_exporter": "python",
   "pygments_lexer": "ipython3",
   "version": "3.7.3"
  },
  "orig_nbformat": 4
 },
 "nbformat": 4,
 "nbformat_minor": 2
}
