{
 "cells": [
  {
   "cell_type": "code",
   "execution_count": 1,
   "metadata": {},
   "outputs": [],
   "source": [
    "from simtk.openmm import app\n",
    "import simtk.openmm as mm\n",
    "from simtk import unit"
   ]
  },
  {
   "cell_type": "code",
   "execution_count": 2,
   "metadata": {},
   "outputs": [],
   "source": [
    "pdb = app.PDBFile('butane.pdb')\n",
    "forcefield = app.ForceField('butane.gaff2.xml')"
   ]
  },
  {
   "cell_type": "code",
   "execution_count": 3,
   "metadata": {},
   "outputs": [],
   "source": [
    "system = forcefield.createSystem(pdb.topology, nonbondedMethod=app.NoCutoff, constraints=app.HBonds)\n",
    "\n",
    "integrator = mm.LangevinIntegrator(298.15*unit.kelvin, 5.0/unit.picoseconds, 2.0*unit.femtoseconds)\n",
    "integrator.setConstraintTolerance(1e-5)\n",
    "\n",
    "platform = mm.Platform.getPlatformByName('Reference')\n",
    "simulation = app.Simulation(pdb.topology, system, integrator, platform)\n",
    "simulation.context.setPositions(pdb.positions)"
   ]
  },
  {
   "cell_type": "code",
   "execution_count": 4,
   "metadata": {},
   "outputs": [
    {
     "name": "stdout",
     "output_type": "stream",
     "text": [
      "Minimizing...\n",
      "Potential energy before minimization is 13.384565075698099 kJ/mol\n",
      "Potential energy after minimization is 5.297922227327014 kJ/mol\n"
     ]
    }
   ],
   "source": [
    "print('Minimizing...')\n",
    "\n",
    "st = simulation.context.getState(getPositions=True,getEnergy=True)\n",
    "print(F\"Potential energy before minimization is {st.getPotentialEnergy()}\")\n",
    "\n",
    "simulation.minimizeEnergy(maxIterations=100)\n",
    "\n",
    "st = simulation.context.getState(getPositions=True,getEnergy=True)\n",
    "print(F\"Potential energy after minimization is {st.getPotentialEnergy()}\")"
   ]
  },
  {
   "cell_type": "code",
   "execution_count": 5,
   "metadata": {},
   "outputs": [
    {
     "name": "stdout",
     "output_type": "stream",
     "text": [
      "Equilibrating...\n",
      "#\"Step\",\"Potential Energy (kJ/mole)\",\"Temperature (K)\"\n",
      "250,30.29011840387216,184.26011183015984\n",
      "500,44.084666651464104,124.46468355391393\n",
      "750,37.42739267238698,309.71316486466174\n",
      "1000,39.738572255464284,507.266313518318\n",
      "1250,32.388590475798466,280.71554523644994\n",
      "1500,51.68236912737291,294.88649741578547\n",
      "1750,51.08985545770625,191.62762832771546\n",
      "2000,54.807733305564824,300.6989050369633\n",
      "2250,45.053649718853535,282.79991178857296\n",
      "2500,32.46776037992281,226.19370546718167\n",
      "2750,34.29472352119372,319.9634251286482\n",
      "3000,31.460287674042455,188.12622615773128\n",
      "3250,36.507452854633364,313.6429995963956\n",
      "3500,39.35390159191742,274.5564544406902\n",
      "3750,34.62365563798516,197.11821700926237\n",
      "4000,45.763302328356225,254.03483691842433\n",
      "4250,43.64343382521417,264.4485557441998\n",
      "4500,41.88499687422803,335.99684253892644\n",
      "4750,30.42730173706166,299.7998041308005\n",
      "5000,43.018864488032406,269.74584065621997\n"
     ]
    }
   ],
   "source": [
    "from sys import stdout\n",
    "\n",
    "print('Equilibrating...')\n",
    "\n",
    "simulation.reporters.append(app.StateDataReporter(stdout, 250, step=True, \n",
    "    potentialEnergy=True, temperature=True, separator=','))\n",
    "simulation.context.setVelocitiesToTemperature(298.0*unit.kelvin)\n",
    "simulation.step(5000)"
   ]
  },
  {
   "cell_type": "code",
   "execution_count": 6,
   "metadata": {},
   "outputs": [
    {
     "name": "stdout",
     "output_type": "stream",
     "text": [
      "Running Production...\n",
      "#\"Step\",\"Time (ps)\",\"Potential Energy (kJ/mole)\",\"Temperature (K)\",\"Speed (ns/day)\"\n",
      "250000,500.0000000016593,41.71572287479586,377.0392756701764,0\n",
      "500000,999.9999999901769,42.08439056463014,494.08592538641295,1.06e+04\n",
      "750000,1499.9999999783536,33.93865127772576,334.87324935213076,1.11e+04\n",
      "1000000,1999.9999999665301,33.16292650518016,221.7791848075571,1.12e+04\n",
      "1250000,2499.9999999547067,37.06356369904606,257.4576789531081,1.15e+04\n",
      "1500000,2999.9999999428833,53.62499693365875,194.63690876939913,1.16e+04\n",
      "1750000,3499.99999993106,59.83585891445989,339.19996490405265,1.17e+04\n",
      "2000000,3999.9999999192364,54.134316482370494,323.81046432564995,1.17e+04\n",
      "2250000,4499.9999999992715,43.33656601539507,308.3662008925654,1.17e+04\n",
      "2500000,5000.000000101135,40.01272063734109,292.44252720129725,1.14e+04\n",
      "2750000,5500.000000202998,45.76178212777634,360.27662319693974,1.04e+04\n",
      "3000000,6000.000000304862,41.13958089174441,449.31685381794097,9.74e+03\n",
      "3250000,6500.000000406725,40.07557778212338,442.264980682472,9.26e+03\n",
      "3500000,7000.0000005085885,28.60666266701446,385.44911926348914,8.91e+03\n",
      "3750000,7500.000000610452,51.17994746660905,429.08205407826284,8.57e+03\n",
      "4000000,8000.000000712315,41.40958951329995,339.9772751083206,8.35e+03\n",
      "4250000,8500.000000814178,45.94082546885984,278.8963795350158,8.16e+03\n",
      "4500000,9000.000000916041,46.685814936941966,238.54910172409515,7.98e+03\n",
      "4750000,9500.000001017905,32.6804998125035,329.7099654619297,7.8e+03\n",
      "5000000,10000.000001119768,33.15787983863276,439.94957868025796,7.56e+03\n",
      "5250000,10500.000001221631,55.25036261580854,275.93925132175974,7.4e+03\n",
      "5500000,11000.000001323495,45.697754381351736,208.76309225817073,7.31e+03\n",
      "5750000,11500.000001425358,38.4698538068281,365.9055660542062,7.21e+03\n",
      "6000000,12000.000001527222,29.78706498077158,278.17880332612947,7.13e+03\n",
      "6250000,12500.000001629085,32.12265614214837,353.1103000547952,7.02e+03\n",
      "6500000,13000.000001730948,36.50976903225033,271.5138262070202,6.96e+03\n",
      "6750000,13500.000001832812,38.935072035141324,378.4630437909884,6.88e+03\n",
      "7000000,14000.000001934675,39.95983738794884,381.0268210689118,6.83e+03\n",
      "7250000,14500.000002036539,34.981937718308835,339.73620423377696,6.76e+03\n",
      "7500000,15000.000002138402,41.255053496019215,371.4688877452472,6.72e+03\n",
      "7750000,15500.000002240266,50.86553184165059,368.857490932691,6.68e+03\n",
      "8000000,16000.000002342129,51.444169950211396,329.63000108726345,6.65e+03\n",
      "8250000,16500.00000244399,39.218688829316584,447.58063039704234,6.6e+03\n",
      "8500000,17000.000002545854,46.669319420591556,291.18997838967533,6.57e+03\n",
      "8750000,17500.000002647717,63.90902351125305,380.7748384323755,6.53e+03\n",
      "9000000,18000.00000274958,48.99793620876417,366.56804171981366,6.51e+03\n",
      "9250000,18500.000002851444,35.86474928915225,199.65558872345025,6.46e+03\n",
      "9500000,19000.000002953308,36.65897785299544,424.14115560702237,6.43e+03\n",
      "9750000,19500.00000305517,61.57035133601871,389.3999810264935,6.39e+03\n",
      "10000000,20000.000003157034,33.53705745431074,281.11401678877513,6.38e+03\n",
      "10250000,20500.000003258898,23.3700095546031,346.62442901105294,6.36e+03\n",
      "10500000,21000.00000336076,31.47510621585717,261.73023934096665,6.35e+03\n",
      "10750000,21500.000003462625,53.94360682213686,268.23950969990597,6.34e+03\n",
      "11000000,22000.000003564488,61.18746912345474,182.06083827352396,6.34e+03\n",
      "11250000,22500.00000366635,33.758954485646434,287.5016961147604,6.31e+03\n",
      "11500000,23000.000003768215,29.43879226157928,374.13391211930184,6.3e+03\n",
      "11750000,23500.00000387008,34.89713053064659,287.2606194849688,6.29e+03\n",
      "12000000,24000.00000397194,47.32998976435006,213.9896010122986,6.29e+03\n",
      "12250000,24500.000004073805,29.118527798774156,325.95551973520344,6.28e+03\n",
      "12500000,25000.00000417567,44.366230622245595,217.30439903945242,6.29e+03\n",
      "12750000,25500.000004277532,41.63710772843294,304.88644109802146,6.29e+03\n",
      "13000000,26000.000004379395,41.440074794894954,299.21180628963083,6.28e+03\n",
      "13250000,26500.00000448126,44.73321990229041,304.30536480099056,6.26e+03\n",
      "13500000,27000.000004583122,36.51954114786064,357.64120973531,6.25e+03\n",
      "13750000,27500.000004684985,42.41683958612876,287.6616076839666,6.24e+03\n",
      "14000000,28000.00000478685,43.821574913143365,170.17821173593424,6.23e+03\n",
      "14250000,28500.000004888712,42.0420182722177,191.27079768659817,6.21e+03\n",
      "14500000,29000.000004990576,47.926427588616995,250.93085190573555,6.2e+03\n",
      "14750000,29500.00000509244,20.360573575426443,326.1622375921887,6.15e+03\n",
      "15000000,30000.000005194303,37.184750347491324,249.65334707712455,6.09e+03\n",
      "15250000,30500.000005296166,31.994580620317148,396.3031852231485,6.06e+03\n",
      "15500000,31000.00000539803,50.50130434660687,398.6440467446627,6.04e+03\n",
      "15750000,31500.000005499893,37.457544931774805,336.0136916410829,6.03e+03\n",
      "16000000,32000.000005601756,46.98373962087472,394.8162575141511,6.02e+03\n",
      "16250000,32500.00000570362,41.30955502813704,257.08693574791926,6.03e+03\n",
      "16500000,33000.00000580548,34.3589696754522,291.2235560260289,6.03e+03\n",
      "16750000,33500.00000590734,41.059553841971386,275.42659665448275,6.03e+03\n",
      "17000000,34000.000006009206,33.20932886613541,276.1443722081644,6.01e+03\n",
      "17250000,34500.00000611107,41.6138830624249,273.2052109985303,6.01e+03\n",
      "17500000,35000.00000621293,33.40811638824612,263.66588559909354,6e+03\n",
      "17750000,35500.000006314796,72.78991979866777,284.12864927021036,6e+03\n",
      "18000000,36000.00000641666,82.04499789893534,388.14936325211835,5.99e+03\n",
      "18250000,36500.00000651852,27.535979303336074,304.2458252382899,6e+03\n",
      "18500000,37000.00000662039,47.35642230431484,225.01376826781578,6e+03\n",
      "18750000,37500.00000672225,25.572803339013632,363.80349746305563,5.99e+03\n",
      "19000000,38000.00000682411,33.435077261627946,339.8251122359267,5.99e+03\n",
      "19250000,38500.00000692598,46.26885884842152,196.82752243908072,6e+03\n",
      "19500000,39000.00000702784,47.485505255131976,542.5678727327766,5.99e+03\n",
      "19750000,39500.0000071297,45.833621002112295,405.92515872707304,5.98e+03\n",
      "20000000,40000.00000723157,53.14513235746166,326.70712234329295,5.98e+03\n",
      "Done!\n",
      "Time required for simulation: 574.5212967395782 seconds\n"
     ]
    }
   ],
   "source": [
    "import time as time\n",
    "\n",
    "print('Running Production...')\n",
    "\n",
    "# Begin timer\n",
    "tinit=time.time()\n",
    "\n",
    "# Clear simulation reporters\n",
    "simulation.reporters.clear()\n",
    "\n",
    "# Reinitialize simulation reporters. We do this because we want different information printed from the production run than the equilibration run.\n",
    "# output basic simulation information below every 250000 steps - (which is equal to 2 fs(250,000) = 500,000 fs = 500 ps)\n",
    "simulation.reporters.append(app.StateDataReporter(stdout, 250000, \n",
    "    step=True, time=True, potentialEnergy=True, temperature=True, \n",
    "    speed=True, separator=','))\n",
    "\n",
    "# write out a trajectory (i.e., coordinates vs. time) to a DCD\n",
    "# file every 100 steps - 0.2 ps\n",
    "simulation.reporters.append(app.DCDReporter('butane_sim.dcd', 100))\n",
    "\n",
    "# run the simulation for 1.0x10^7*2 steps - 20*2 = 40 ns\n",
    "simulation.step(20000000)\n",
    "\n",
    "# End timer\n",
    "tfinal=time.time()\n",
    "print('Done!')\n",
    "print('Time required for simulation:', tfinal-tinit, 'seconds')"
   ]
  },
  {
   "cell_type": "code",
   "execution_count": 7,
   "metadata": {},
   "outputs": [],
   "source": [
    "import mdtraj as md\n",
    "\n",
    "traj = md.load('butane_sim.dcd', top='butane.pdb')"
   ]
  },
  {
   "cell_type": "code",
   "execution_count": 8,
   "metadata": {},
   "outputs": [
    {
     "data": {
      "application/vnd.jupyter.widget-view+json": {
       "model_id": "1ebc88c2761143578f5e64f1b3f40ce2",
       "version_major": 2,
       "version_minor": 0
      },
      "text/plain": []
     },
     "metadata": {},
     "output_type": "display_data"
    },
    {
     "data": {
      "application/vnd.jupyter.widget-view+json": {
       "model_id": "e82b219d9eef47aca852601d44d7e4ec",
       "version_major": 2,
       "version_minor": 0
      },
      "text/plain": [
       "NGLWidget(max_frame=199999)"
      ]
     },
     "metadata": {},
     "output_type": "display_data"
    }
   ],
   "source": [
    "import nglview as ngl\n",
    "\n",
    "visualize = ngl.show_mdtraj(traj)\n",
    "visualize"
   ]
  },
  {
   "cell_type": "code",
   "execution_count": 9,
   "metadata": {},
   "outputs": [
    {
     "data": {
      "text/html": [
       "<div>\n",
       "<style scoped>\n",
       "    .dataframe tbody tr th:only-of-type {\n",
       "        vertical-align: middle;\n",
       "    }\n",
       "\n",
       "    .dataframe tbody tr th {\n",
       "        vertical-align: top;\n",
       "    }\n",
       "\n",
       "    .dataframe thead th {\n",
       "        text-align: right;\n",
       "    }\n",
       "</style>\n",
       "<table border=\"1\" class=\"dataframe\">\n",
       "  <thead>\n",
       "    <tr style=\"text-align: right;\">\n",
       "      <th></th>\n",
       "      <th>serial</th>\n",
       "      <th>name</th>\n",
       "      <th>element</th>\n",
       "      <th>resSeq</th>\n",
       "      <th>resName</th>\n",
       "      <th>chainID</th>\n",
       "      <th>segmentID</th>\n",
       "    </tr>\n",
       "  </thead>\n",
       "  <tbody>\n",
       "    <tr>\n",
       "      <th>0</th>\n",
       "      <td>1</td>\n",
       "      <td>C1</td>\n",
       "      <td>C</td>\n",
       "      <td>1</td>\n",
       "      <td>LIG</td>\n",
       "      <td>0</td>\n",
       "      <td></td>\n",
       "    </tr>\n",
       "    <tr>\n",
       "      <th>1</th>\n",
       "      <td>2</td>\n",
       "      <td>C2</td>\n",
       "      <td>C</td>\n",
       "      <td>1</td>\n",
       "      <td>LIG</td>\n",
       "      <td>0</td>\n",
       "      <td></td>\n",
       "    </tr>\n",
       "    <tr>\n",
       "      <th>2</th>\n",
       "      <td>3</td>\n",
       "      <td>C3</td>\n",
       "      <td>C</td>\n",
       "      <td>1</td>\n",
       "      <td>LIG</td>\n",
       "      <td>0</td>\n",
       "      <td></td>\n",
       "    </tr>\n",
       "    <tr>\n",
       "      <th>3</th>\n",
       "      <td>4</td>\n",
       "      <td>C4</td>\n",
       "      <td>C</td>\n",
       "      <td>1</td>\n",
       "      <td>LIG</td>\n",
       "      <td>0</td>\n",
       "      <td></td>\n",
       "    </tr>\n",
       "    <tr>\n",
       "      <th>4</th>\n",
       "      <td>5</td>\n",
       "      <td>H11</td>\n",
       "      <td>H</td>\n",
       "      <td>1</td>\n",
       "      <td>LIG</td>\n",
       "      <td>0</td>\n",
       "      <td></td>\n",
       "    </tr>\n",
       "    <tr>\n",
       "      <th>5</th>\n",
       "      <td>6</td>\n",
       "      <td>H12</td>\n",
       "      <td>H</td>\n",
       "      <td>1</td>\n",
       "      <td>LIG</td>\n",
       "      <td>0</td>\n",
       "      <td></td>\n",
       "    </tr>\n",
       "    <tr>\n",
       "      <th>6</th>\n",
       "      <td>7</td>\n",
       "      <td>H13</td>\n",
       "      <td>H</td>\n",
       "      <td>1</td>\n",
       "      <td>LIG</td>\n",
       "      <td>0</td>\n",
       "      <td></td>\n",
       "    </tr>\n",
       "    <tr>\n",
       "      <th>7</th>\n",
       "      <td>8</td>\n",
       "      <td>H21</td>\n",
       "      <td>H</td>\n",
       "      <td>1</td>\n",
       "      <td>LIG</td>\n",
       "      <td>0</td>\n",
       "      <td></td>\n",
       "    </tr>\n",
       "    <tr>\n",
       "      <th>8</th>\n",
       "      <td>9</td>\n",
       "      <td>H22</td>\n",
       "      <td>H</td>\n",
       "      <td>1</td>\n",
       "      <td>LIG</td>\n",
       "      <td>0</td>\n",
       "      <td></td>\n",
       "    </tr>\n",
       "    <tr>\n",
       "      <th>9</th>\n",
       "      <td>10</td>\n",
       "      <td>H31</td>\n",
       "      <td>H</td>\n",
       "      <td>1</td>\n",
       "      <td>LIG</td>\n",
       "      <td>0</td>\n",
       "      <td></td>\n",
       "    </tr>\n",
       "    <tr>\n",
       "      <th>10</th>\n",
       "      <td>11</td>\n",
       "      <td>H32</td>\n",
       "      <td>H</td>\n",
       "      <td>1</td>\n",
       "      <td>LIG</td>\n",
       "      <td>0</td>\n",
       "      <td></td>\n",
       "    </tr>\n",
       "    <tr>\n",
       "      <th>11</th>\n",
       "      <td>12</td>\n",
       "      <td>H41</td>\n",
       "      <td>H</td>\n",
       "      <td>1</td>\n",
       "      <td>LIG</td>\n",
       "      <td>0</td>\n",
       "      <td></td>\n",
       "    </tr>\n",
       "    <tr>\n",
       "      <th>12</th>\n",
       "      <td>13</td>\n",
       "      <td>H42</td>\n",
       "      <td>H</td>\n",
       "      <td>1</td>\n",
       "      <td>LIG</td>\n",
       "      <td>0</td>\n",
       "      <td></td>\n",
       "    </tr>\n",
       "    <tr>\n",
       "      <th>13</th>\n",
       "      <td>14</td>\n",
       "      <td>H43</td>\n",
       "      <td>H</td>\n",
       "      <td>1</td>\n",
       "      <td>LIG</td>\n",
       "      <td>0</td>\n",
       "      <td></td>\n",
       "    </tr>\n",
       "  </tbody>\n",
       "</table>\n",
       "</div>"
      ],
      "text/plain": [
       "    serial name element  resSeq resName  chainID segmentID\n",
       "0        1   C1       C       1     LIG        0          \n",
       "1        2   C2       C       1     LIG        0          \n",
       "2        3   C3       C       1     LIG        0          \n",
       "3        4   C4       C       1     LIG        0          \n",
       "4        5  H11       H       1     LIG        0          \n",
       "5        6  H12       H       1     LIG        0          \n",
       "6        7  H13       H       1     LIG        0          \n",
       "7        8  H21       H       1     LIG        0          \n",
       "8        9  H22       H       1     LIG        0          \n",
       "9       10  H31       H       1     LIG        0          \n",
       "10      11  H32       H       1     LIG        0          \n",
       "11      12  H41       H       1     LIG        0          \n",
       "12      13  H42       H       1     LIG        0          \n",
       "13      14  H43       H       1     LIG        0          "
      ]
     },
     "execution_count": 9,
     "metadata": {},
     "output_type": "execute_result"
    }
   ],
   "source": [
    "atoms, bonds = traj.topology.to_dataframe()\n",
    "atoms"
   ]
  },
  {
   "cell_type": "code",
   "execution_count": 10,
   "metadata": {},
   "outputs": [],
   "source": [
    "torsion_indices = [4, 0, 1, 7] # atoms to define the bond length\n",
    "torsion = md.compute_dihedrals(traj, [torsion_indices])"
   ]
  },
  {
   "cell_type": "code",
   "execution_count": 12,
   "metadata": {},
   "outputs": [
    {
     "data": {
      "image/png": "[encoded data removed]",
      "text/plain": [
       "<Figure size 432x288 with 1 Axes>"
      ]
     },
     "metadata": {
      "needs_background": "light"
     },
     "output_type": "display_data"
    }
   ],
   "source": [
    "import matplotlib.pyplot as plt\n",
    "\n",
    "phicounts, binedges, otherstuff = plt.hist(torsion, bins=120)\n",
    "plt.title('H-C-C-H torsion angle histogram')\n",
    "plt.xlabel('Torsion angle (rad)')\n",
    "plt.ylabel('Counts')\n",
    "plt.show()"
   ]
  },
  {
   "cell_type": "code",
   "execution_count": 15,
   "metadata": {},
   "outputs": [
    {
     "data": {
      "image/png": "[encoded data removed]",
      "text/plain": [
       "<Figure size 432x288 with 1 Axes>"
      ]
     },
     "metadata": {
      "needs_background": "light"
     },
     "output_type": "display_data"
    }
   ],
   "source": [
    "import numpy as np \n",
    "import statsmodels.api as sm\n",
    "\n",
    "kB = 8.31446/1000 # Boltzmann constant in kJ/mol\n",
    "Temp = 298.15 # simulation temperature\n",
    "phicounts[phicounts==0] = 0.1 # get rid of any bins with 0 counts/infinite energy\n",
    "pmf = -kB*Temp*np.log(phicounts) # W(x) = -kT*ln[p(x)] = -kT*ln[n(x)] + C\n",
    "pmf = pmf - np.min(pmf) # subtract off minimum value so that energies start from 0\n",
    "\n",
    "bincenters = (binedges[1:] + binedges[:-1])/2 # compute centers of histogram bins\n",
    "\n",
    "plt.plot(bincenters, pmf)\n",
    "plt.title('H-C-C-H torsion pmf')\n",
    "plt.xlabel(r'$\\phi$ (rad)')\n",
    "plt.ylabel('Relative free energy (kJ/mol)')\n",
    "plt.show()"
   ]
  },
  {
   "cell_type": "code",
   "execution_count": 16,
   "metadata": {},
   "outputs": [
    {
     "data": {
      "image/png": "[encoded data removed]",
      "text/plain": [
       "<Figure size 432x288 with 1 Axes>"
      ]
     },
     "metadata": {
      "needs_background": "light"
     },
     "output_type": "display_data"
    }
   ],
   "source": [
    "# Analyze the C-C-C-C torsion angle and compute the PMF.\n",
    "CCCC_indices = [0, 1, 2, 3] # atoms to define the bond length\n",
    "CCCC_torsion = md.compute_dihedrals(traj, [CCCC_indices])\n",
    "\n",
    "phicounts, binedges, otherstuff = plt.hist(CCCC_torsion, bins=120)\n",
    "plt.title('C-C-C-C torsion angle histogram')\n",
    "plt.xlabel('Torsion angle (rad)')\n",
    "plt.ylabel('Counts')\n",
    "plt.show()"
   ]
  },
  {
   "cell_type": "code",
   "execution_count": 17,
   "metadata": {},
   "outputs": [
    {
     "data": {
      "image/png": "[encoded data removed]",
      "text/plain": [
       "<Figure size 432x288 with 1 Axes>"
      ]
     },
     "metadata": {
      "needs_background": "light"
     },
     "output_type": "display_data"
    }
   ],
   "source": [
    "phicounts[phicounts==0] = 0.1 # get rid of any bins with 0 counts/infinite energy\n",
    "pmf = -kB*Temp*np.log(phicounts) # W(x) = -kT*ln[p(x)] = -kT*ln[n(x)] + C\n",
    "pmf = pmf - np.min(pmf) # subtract off minimum value so that energies start from 0\n",
    "\n",
    "bincenters = (binedges[1:] + binedges[:-1])/2 # compute centers of histogram bins\n",
    "\n",
    "plt.plot(bincenters, pmf)\n",
    "plt.title('C-C-C-C torsion pmf')\n",
    "plt.xlabel(r'$\\phi$ (rad)')\n",
    "plt.ylabel('Relative free energy (kJ/mol)')\n",
    "plt.show()"
   ]
  },
  {
   "cell_type": "code",
   "execution_count": 19,
   "metadata": {},
   "outputs": [
    {
     "data": {
      "image/png": "[encoded data removed]",
      "text/plain": [
       "<Figure size 432x288 with 1 Axes>"
      ]
     },
     "metadata": {
      "needs_background": "light"
     },
     "output_type": "display_data"
    }
   ],
   "source": [
    "# Analyze the C-C-C bond angle (use C1-C2-C3) and compute the PMF.\n",
    "CCC_indices = [0, 1, 2] # atoms to define the bond length\n",
    "CCCC_angle = md.compute_angles(traj, [CCC_indices])\n",
    "\n",
    "anglecounts, binedges, otherstuff = plt.hist(CCCC_angle, bins=120)\n",
    "plt.title('C-C-C angle histogram')\n",
    "plt.xlabel('Bond angle (rad)')\n",
    "plt.ylabel('Counts')\n",
    "plt.show()"
   ]
  },
  {
   "cell_type": "code",
   "execution_count": 21,
   "metadata": {},
   "outputs": [
    {
     "name": "stderr",
     "output_type": "stream",
     "text": [
      "/dartfs-hpc/rc/home/y/f0047qy/.local/lib/python3.7/site-packages/ipykernel_launcher.py:2: RuntimeWarning: divide by zero encountered in log\n",
      "  \n"
     ]
    },
    {
     "data": {
      "image/png": "[encoded data removed]",
      "text/plain": [
       "<Figure size 432x288 with 1 Axes>"
      ]
     },
     "metadata": {
      "needs_background": "light"
     },
     "output_type": "display_data"
    }
   ],
   "source": [
    "anglecounts[anglecounts==0] = 0.1 # get rid of any bins with 0 counts/infinite energy\n",
    "pmf = -kB*Temp*np.log(phicounts) # W(x) = -kT*ln[p(x)] = -kT*ln[n(x)] + C\n",
    "pmf = pmf - np.min(pmf) # subtract off minimum value so that energies start from 0\n",
    "\n",
    "bincenters = (binedges[1:] + binedges[:-1])/2 # compute centers of histogram bins\n",
    "\n",
    "plt.plot(bincenters, pmf)\n",
    "plt.title('C-C-C bond angle pmf')\n",
    "plt.xlabel(r'$\\phi$ (rad)')\n",
    "plt.ylabel('Relative free energy (kJ/mol)')\n",
    "plt.show()"
   ]
  },
  {
   "cell_type": "code",
   "execution_count": 32,
   "metadata": {},
   "outputs": [
    {
     "data": {
      "image/png": "[encoded data removed]",
      "text/plain": [
       "<Figure size 432x288 with 1 Axes>"
      ]
     },
     "metadata": {
      "needs_background": "light"
     },
     "output_type": "display_data"
    }
   ],
   "source": [
    "# Make only a histogram of one of the C-H bond lengths. Pick C1 - H11.\n",
    "bond_indices = [0, 4] # atoms to define the bond length\n",
    "bond_length = md.compute_distances(traj, [bond_indices])\n",
    "\n",
    "bondcounts, binedges, otherstuff = plt.hist(bond_length, bins=120)\n",
    "plt.title('C1-H11 bond length histogram')\n",
    "plt.xlabel('Bond length (nm)')\n",
    "plt.ylabel('Counts')\n",
    "plt.gcf().autofmt_xdate()\n",
    "plt.show()"
   ]
  },
  {
   "cell_type": "markdown",
   "metadata": {},
   "source": [
    "### The distribution is centered around 1.097 A, where C-H bond length is about 1.09A. But the distribution is not like a harmonic potential."
   ]
  },
  {
   "cell_type": "markdown",
   "metadata": {},
   "source": []
  }
 ],
 "metadata": {
  "interpreter": {
   "hash": "1aeeeefbe05ee7c07fac065a375bb177a4474e157dcfb08de3aee7e117d8eacf"
  },
  "kernelspec": {
   "display_name": "Python 3.7.3 64-bit ('labconda': conda)",
   "language": "python",
   "name": "python3"
  },
  "language_info": {
   "codemirror_mode": {
    "name": "ipython",
    "version": 3
   },
   "file_extension": ".py",
   "mimetype": "text/x-python",
   "name": "python",
   "nbconvert_exporter": "python",
   "pygments_lexer": "ipython3",
   "version": "3.7.3"
  },
  "orig_nbformat": 4
 },
 "nbformat": 4,
 "nbformat_minor": 2
}
